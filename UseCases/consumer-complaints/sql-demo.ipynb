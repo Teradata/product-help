{
 "cells": [
  {
   "cell_type": "markdown",
   "metadata": {},
   "source": [
    "Time Series Analysis - Consumer Complaints\n",
    "================\n",
    "Andre Nascimento, Senior Software Engineer ([email](mailto:andre.nascimento@teradata.com))\n",
    "\n",
    "-   [Introduction](#introduction)\n",
    "-   [Experience](#experience)\n",
    "    -   [Quick Start](#quick-start)\n",
    "    -   [Walkthrough](#walkthrough)\n",
    "        -   [Step 1: Setup](#step-1)\n",
    "        -   [Step 2: Establishing the Vantage Connection](#step-2)\n",
    "        -   [Step 3: Querying the Data](#step-3)\n",
    "        -   [Step 4: Visualizing the Data](#step-4)\n",
    "        -   [Step 5: Extracting Insights from the Data](#step-5)\n",
    "-   [Dataset](#dataset)\n",
    "-   [Explore](#explore)"
   ]
  },
  {
   "cell_type": "markdown",
   "metadata": {},
   "source": [
    "<a id='introduction'></a>\n",
    "# Introduction\n",
    "\n",
    "How can we use **Vantage** to extract insights and tell a story behind a dataset? In this workflow you will see how powerful and simple the **Vantage Jupyter Extensions** are to use to extract answers from a public dataset available through Data.gov. We will analyze the number of complaints over time, using SQL in a Jupyter notebook powered by **Vantage** to answer the following questions:\n",
    "\n",
    "*What are the trends of complaints over time?*\n",
    "*How can we interpret the outliers in the dataset?*\n",
    "\n",
    "By answering questions like the ones above, we will gain a deeper understanding of the dataset and we'll be able to explain in plain English how the number of complaints evolve over time. In the **Explore** section, we will focus on analyzing the number of complaints over time and identifying trends and outliers in the time series to answer the questions above. All of this will be executed in a Teradata SQL JupyterLab environment that is fueled by **Vantage** and allows us even to plot charts and visualize the query results right on the notebook.\n",
    "\n",
    "For more information on using the **Teradata SQL Extension for Jupyter**, consult the documentation at https://teradata.github.io/jupyterextensions/. This documentation page is only available outside of the workspace."
   ]
  },
  {
   "cell_type": "markdown",
   "metadata": {},
   "source": [
    "<a id='experience'></a>\n",
    "# Experience\n",
    "\n",
    "<a id='quick-start'></a>\n",
    "# Quick Start\n",
    "\n",
    "The **Experience** section takes about 3 minutes to run.\n",
    "\n",
    "1. Open Jupyter from the Start menu of your Workspace VM.\n",
    "\n",
    "2. In the sidebar, navigate to **Documents > `consumer-complaints` > `sql-demo.ipynb`**.\n",
    "\n",
    "> If you are unable to locate the file, see how to [download files from GitLab](https://innersource.teradata.com/published/documentation/blob/master/docs/faq.md#4-how-do-i-download-files-from-gitlab).\n",
    "\n",
    "3. In **Step 1** of the **Experience** section, enter your Quicklook ID as the `user` parameter of the `%addconnect` command.\n",
    "\n",
    "![](https://innersource.teradata.com/published/consumer-complaints/raw/master/images/addconnect-user.png)\n",
    "\n",
    "4. Go to the **Run** tab and click **Run All Cells**.\n",
    "\n",
    "![](https://innersource.teradata.com/published/consumer-complaints/raw/master/images/jupyterlab-run-all.png)\n",
    "\n",
    "<a id='walkthrough'></a>\n",
    "## Walkthrough"
   ]
  },
  {
   "cell_type": "markdown",
   "metadata": {},
   "source": [
    "<a id='step-1'></a>\n",
    "#### Step 1: Setup\n",
    "\n",
    "Let's start by adding a connection to the Teradata database that contains our data. We will use the **Teradata SQL Extension for Jupyter** to invoke a the magic command `%addconnect`.\n",
    "\n",
    "##### 🚨 Enter your Quicklook ID as the `user` parameter below to add the connection."
   ]
  },
  {
   "cell_type": "code",
   "execution_count": null,
   "metadata": {},
   "outputs": [],
   "source": [
    "%addconnect name=dev_environment, user=, host=devplatform-vantagecop1.td.teradata.com, PROPS=\"logmech=LDAP\""
   ]
  },
  {
   "cell_type": "markdown",
   "metadata": {},
   "source": [
    "<a id='step-2'></a>\n",
    "#### Step 2: Establishing the Vantage Connection\n",
    "Now that we have added the connection, let's connect to the database. The password is your Quicklook password."
   ]
  },
  {
   "cell_type": "code",
   "execution_count": null,
   "metadata": {},
   "outputs": [],
   "source": [
    "%connect NAME=dev_environment"
   ]
  },
  {
   "cell_type": "markdown",
   "metadata": {},
   "source": [
    "If you have issues connecting to the database, refer to the [FAQ](https://innersource.teradata.com/published/documentation/blob/master/docs/faq.md#44-im-having-trouble-connecting-to-the-vantage-system-using-the-teradata-sql-extension-for-jupyter-what-do-i-do)."
   ]
  },
  {
   "cell_type": "markdown",
   "metadata": {},
   "source": [
    "<a id='step-3'></a>\n",
    "#### Step 3: Querying the Data\n",
    "\n",
    "We will start off by counting the number of rows in the table."
   ]
  },
  {
   "cell_type": "code",
   "execution_count": null,
   "metadata": {},
   "outputs": [],
   "source": [
    "select count(*) from FinancialProtection_V.consumer_complaints;"
   ]
  },
  {
   "cell_type": "markdown",
   "metadata": {},
   "source": [
    "As we can see, there are just under 1.3 million rows. That is a lot of data, and to show the power of **Vantage**, we will query all the elements in the table at once."
   ]
  },
  {
   "cell_type": "code",
   "execution_count": null,
   "metadata": {},
   "outputs": [],
   "source": [
    "select * from FinancialProtection_V.consumer_complaints;"
   ]
  },
  {
   "cell_type": "markdown",
   "metadata": {},
   "source": [
    "The **Teradata SQL Extension for Jupyter** makes it easy and fast to visualize your query results. We can see from the output above that the query results were paginated in order to make the loading faster on the notebook. This makes an overall great user experience as we don't need to see the full 1.3 million rows at once."
   ]
  },
  {
   "cell_type": "markdown",
   "metadata": {},
   "source": [
    "<a id='step-4'></a>\n",
    "#### Step 4: Visualizing the Data\n",
    "\n",
    "From the query above, we notice that this dataset has a lot of information. In order to derive some insights, we need to start grouping the data. The very first column is `date_received`. That is the date the complaints were received and it means that we can look at a time series plot of the data. Let's then start by grouping the counts of `complaint_id` over time, using `date_received` as our time axis."
   ]
  },
  {
   "cell_type": "code",
   "execution_count": null,
   "metadata": {},
   "outputs": [],
   "source": [
    "select date_received, count(complaint_id) as counts\n",
    "from FinancialProtection_V.consumer_complaints\n",
    "group by date_received;"
   ]
  },
  {
   "cell_type": "markdown",
   "metadata": {},
   "source": [
    "This is great; we now have the number of complaints (`counts`) by time (`date_received`), but how do we make sense of this data? Well, the **Teradata SQL Extension for Jupyter** has a magic command for charts, which is just what we need. So let's go ahead and plot this time series on a graph by using the `%chart` magic command. "
   ]
  },
  {
   "cell_type": "code",
   "execution_count": null,
   "metadata": {},
   "outputs": [],
   "source": [
    "%chart x=date_received, y=counts, title=Number of Complaints over Time, mark=line"
   ]
  },
  {
   "cell_type": "markdown",
   "metadata": {},
   "source": [
    "By visualizing the data above, we can see that the number of complaints varies a lot over time and there also seem to be more complaints over time progresses. There are also some unusual spikes in 2017. Let's understand more about our data. We'll start by looking at the general trend.\n",
    "\n",
    "Let's begin by grouping the data by month and replotting the graph above."
   ]
  },
  {
   "cell_type": "code",
   "execution_count": null,
   "metadata": {},
   "outputs": [],
   "source": [
    "select extract(year from date_received) || extract(month from date_received) as month_date, count(complaint_id) as counts\n",
    "from FinancialProtection_V.consumer_complaints\n",
    "group by month_date\n",
    "order by month_date;"
   ]
  },
  {
   "cell_type": "code",
   "execution_count": null,
   "metadata": {},
   "outputs": [],
   "source": [
    "%chart x=month_date, y=counts, title=Number of Complaints by Month and Year, mark=line"
   ]
  },
  {
   "cell_type": "markdown",
   "metadata": {},
   "source": [
    "Looking at complaints over month and year, we can see there is clearly an upward trend. One hypothesis is that as time progresses, people get more conscious and spread the word. The media can also advertise the complaint channels over time. Through this chart we can see clearly the spikes that we saw above were in January 2017 and September 2017. Let's dive deeper into these dates and draw some insights on the next step."
   ]
  },
  {
   "cell_type": "markdown",
   "metadata": {},
   "source": [
    "<a id='step-5'></a>\n",
    "#### Step 5: Extracting Insights from the Data"
   ]
  },
  {
   "cell_type": "markdown",
   "metadata": {},
   "source": [
    "Let's narrow down the two spikes above and see where exactly the are happening. We can do this by ploting another time series plot, this time only in 2017."
   ]
  },
  {
   "cell_type": "code",
   "execution_count": null,
   "metadata": {},
   "outputs": [],
   "source": [
    "select date_received, count(complaint_id) as counts\n",
    "from FinancialProtection_V.consumer_complaints\n",
    "where year(date_received) = 2017\n",
    "group by date_received\n",
    "order by date_received;"
   ]
  },
  {
   "cell_type": "code",
   "execution_count": null,
   "metadata": {},
   "outputs": [],
   "source": [
    "%chart x=date_received, y=counts, mark=line, title=Complaints over time - 2017"
   ]
  },
  {
   "cell_type": "markdown",
   "metadata": {},
   "source": [
    "As we look at the peaks, we find that these happened between January 15<sup>th</sup> - 21<sup>st</sup> and on the first week of Semptember, respectively. Let's find the actual dates of the peaks. We can limit the query to pick up at least 1,500 complaints a day."
   ]
  },
  {
   "cell_type": "code",
   "execution_count": null,
   "metadata": {},
   "outputs": [],
   "source": [
    "select date_received, \n",
    "    month(date_received) as month_date, \n",
    "    count(complaint_id) as counts\n",
    "from FinancialProtection_V.consumer_complaints\n",
    "where year(date_received) = 2017 and month_date in (1, 9) \n",
    "group by date_received\n",
    "having counts >= 1500\n",
    "order by month_date, counts desc;"
   ]
  },
  {
   "cell_type": "markdown",
   "metadata": {},
   "source": [
    "Let us now look at some of the issues that were reported during these dates."
   ]
  },
  {
   "cell_type": "code",
   "execution_count": null,
   "metadata": {},
   "outputs": [],
   "source": [
    "select date_received, company, count(company) as counts\n",
    "from FinancialProtection_V.consumer_complaints\n",
    "where date_received in (\n",
    "    date '2017-01-19', \n",
    "    date '2017-01-20',\n",
    "    date '2017-09-08',\n",
    "    date '2017-09-09',\n",
    "    date '2017-09-13'\n",
    ")\n",
    "group by date_received, company\n",
    "having counts > 500\n",
    "order by date_received, counts desc;"
   ]
  },
  {
   "cell_type": "markdown",
   "metadata": {},
   "source": [
    "Interestingly, we can see that the great majority of the the complaints were directed at two companies: Navient Solutions and EQUIFAX. These seem to be highly correlated with the Navient Lawsuit and the Equifax breach events that happened around those dates, respectively. Let's recap what happened on those two events:\n",
    "\n",
    "> **Navient Lawsuit**:\n",
    "*On January 2017, the U.S. Consumer Financial Protection Bureau (CFPB) and the Illinois and Washington attorneys general sued Navient Solutions. Navient is a major servicer of private and federal student loans. Accoriding to the CFPB at least since January 2010 \"Navient has misallocated payments, steered struggling borrowers toward multiple forbearances instead of income-driven repayment plans, and provided unclear information about how to re-enroll in income-driven repayment plans and how to qualify for a co-signer release\"*\n",
    "\n",
    "> **Equifax Breach:**\n",
    "*On September 7<sup>th</sup> 2017, Equifax announced a cybersecurity breach, one of the largest in history, had happened from mid-May through July 2017.\n",
    "Some of the personal information that was accessed included names, social security numbers, birth dates, addresses and driver's license numbers.*"
   ]
  },
  {
   "cell_type": "markdown",
   "metadata": {},
   "source": [
    "Let's now look at the top issues for Navient Solutions and Equifax during those periods to confirm our hypothesis."
   ]
  },
  {
   "cell_type": "code",
   "execution_count": null,
   "metadata": {},
   "outputs": [],
   "source": [
    "-- analyze top issues reported agains Navient Soultions on 2017-01-19 and 2017-01-20\n",
    "select company, product, issue, count(issue) as counts\n",
    "from FinancialProtection_V.consumer_complaints\n",
    "where date_received in (\n",
    "    date '2017-01-19', \n",
    "    date '2017-01-20') and\n",
    "    company like 'Navient Solutions%'\n",
    "group by company, product, issue\n",
    "order by counts desc;"
   ]
  },
  {
   "cell_type": "markdown",
   "metadata": {},
   "source": [
    "We can see the top two issues represent the majority of complaint counts agains Navient Solutions. Furthermore, by looking at the product and issue columns we can infer that they are indeed related to the lawsuit regarding student loans. Now let's do the same analysis for the Equifax issues."
   ]
  },
  {
   "cell_type": "code",
   "execution_count": null,
   "metadata": {},
   "outputs": [],
   "source": [
    "-- analyze top issues reported agains Navient Soultions on 2017-01-19 and 2017-01-20\n",
    "select \n",
    "    company, \n",
    "    product, \n",
    "    issue, \n",
    "    count(issue) as counts\n",
    "from FinancialProtection_V.consumer_complaints\n",
    "where date_received in (\n",
    "    date '2017-09-08', \n",
    "    date '2017-09-09',\n",
    "    date '2017-09-13') and\n",
    "        company like 'EQUIFAX%'\n",
    "group by company, product, issue\n",
    "order by counts desc;"
   ]
  },
  {
   "cell_type": "markdown",
   "metadata": {},
   "source": [
    "Here we can also confirm our hypothesis. The top issues talk about improper use of the credit report, fraud alerts, identity theft etc. This really does seem related to the Equifax breach that happened around the same time frame."
   ]
  },
  {
   "cell_type": "markdown",
   "metadata": {},
   "source": [
    "<a id='dataset'></a>\n",
    "# Dataset\n",
    "\n",
    "The Consumer Complaints Database has complaints data that was received by the Consumer Financial Protection Bureau (CFPB) on financial products and services, which include but are not limited to bank accounts, credit cards, credit reporting, debt collection, money transfers, mortgages, student loans and other types of consumer credit. The dataset is refreshed daily and contains information on the provider, the complaint, date, ZIP code and more. More information about the dataset can be found in the *Consumer* section of the Data.gov website.\n",
    "\n",
    "The `FinancialProtection_V.consumer_complaints` dataset has 1,273,782 rows, each representing a unique consumer complaint, and 18 columns, representing the following features:\n",
    "\n",
    "* `date_received`: date that CFPB received the complaint\n",
    "* `product`: type of product the consumer identified in the complaint\n",
    "* `sub_product`: type of sub-product the consumer identified in the complaint\n",
    "* `issue`: issue the consumer identified in the complaint\n",
    "* `sub_issue`: sub-issue the consumer identified in the complaint\n",
    "* `consumer_complaint_narrative`: consumer-submitted description of \"what happened\" from the complaint\n",
    "* `company_public_response`: company's optional, public-facing response to a consumer's complaint\n",
    "* `company`: complaint is about this company\n",
    "* `state`: state of the mailing address provided by the consumer\n",
    "* `zip_code`: mailing ZIP code provided by the consumer\n",
    "* `tags`: data that supports easier searching and sorting of complaints submitted by or on behalf of consumers\n",
    "* `consumer_consent_provided`: identifies whether the consumer option in to publish their complaint narrative\n",
    "* `submitted_via`: how the complaint was submitted to the CFPB\n",
    "* `date_sent_to_company`: date the CFBP sent the complaint to the company\n",
    "* `company_response_to_consumer`: how the company responded\n",
    "* `timely_response`: whether the company gave a timely response\n",
    "* `consumer_disputed`: whether the company disputed the company's response\n",
    "* `complaint_id`: unique identification number for a complaint"
   ]
  },
  {
   "cell_type": "markdown",
   "metadata": {},
   "source": [
    "<a id='explore'></a>\n",
    "# Explore"
   ]
  },
  {
   "cell_type": "markdown",
   "metadata": {},
   "source": [
    "Through this notebook, we showed the power and simplicity of the **Teradata SQL Extension for Jupyter** and how it can be leveraged to extract insights from the data and help tell the story behind the dataset by answering questions. Hopefully you've noticed how easy it is to use **Vantage** to write your own SQL queries inside a Jupyter notebook. You may also use the Navigator found in the JupyterLab Launcher to explore the Vantage system catalog. For more information about the Navigator and additional **Teradata SQL Extension for Jupyter** functionality, refer to https://teradata.github.io/jupyterextensions/ (only available outside of the workspace).\n",
    "\n",
    "You can continue to **EXPLORE Vantage** to extract more insights and find answers to other questions by leveraging the sandbox environment with the pre-loaded dataset. Here are some suggestions:\n",
    "\n",
    "* **What are the most common types of complaints?** By grouping the `product` category, we can arrive at this answer. How does this change over time?\n",
    "* **How are customers submitting their complaints?** The column `submitted_via` can also be grouped to answer for this question.\n",
    "* **What proportion of the customer complaints are disputed?** By aggregating counts of `customer_disputed` we can answer this question.\n",
    "* **Is there seasonality in the data? What is the reason for the seasonality?** If we subtract the trend from the series we can analyze the seasonality in the dataset. Are most of the complaints filed during the week or on the weekends?"
   ]
  },
  {
   "cell_type": "code",
   "execution_count": null,
   "metadata": {},
   "outputs": [],
   "source": []
  }
 ],
 "metadata": {
  "kernelspec": {
   "display_name": "Teradata SQL",
   "language": "Teradata SQL",
   "name": "teradatasql"
  },
  "language_info": {
   "codemirror_mode": "Teradata SQL",
   "file_extension": ".tdrs",
   "mimetype": "application/vnd.teradata.resultset",
   "name": "Teradata SQL",
   "nbconvert_exporter": "",
   "pygments_lexer": "",
   "version": "16.20"
  }
 },
 "nbformat": 4,
 "nbformat_minor": 4
}
